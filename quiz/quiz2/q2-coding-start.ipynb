{
 "cells": [
  {
   "cell_type": "markdown",
   "metadata": {},
   "source": [
    "The dataset below shows records of online order delivery extracted from the original dataset [here](https://www.kaggle.com/benroshan/online-food-delivery-preferencesbangalore-region). \n",
    "\n",
    "The `Output` column is the target value indicating if the delivery is satisfactory. \n",
    "\n",
    "#### Please first run the code from start to end and complete the quiz questions at the end of the notebook. "
   ]
  },
  {
   "cell_type": "code",
   "execution_count": 1,
   "metadata": {},
   "outputs": [],
   "source": [
    "import pandas as pd\n",
    "import numpy as np\n",
    "from sklearn.impute import SimpleImputer\n",
    "from sklearn.preprocessing import MinMaxScaler\n",
    "from sklearn.preprocessing import OneHotEncoder\n",
    "from sklearn.tree import DecisionTreeRegressor\n",
    "from sklearn.tree import DecisionTreeClassifier\n",
    "from sklearn.pipeline import Pipeline\n",
    "from sklearn.compose import ColumnTransformer\n",
    "from sklearn.metrics import confusion_matrix\n",
    "from sklearn.metrics import classification_report\n",
    "from sklearn.model_selection import GridSearchCV\n",
    "from sklearn.model_selection import train_test_split\n",
    "\n",
    "df = pd.read_csv(\"./onlinedelivery-short.csv\")"
   ]
  },
  {
   "cell_type": "code",
   "execution_count": 2,
   "metadata": {},
   "outputs": [],
   "source": [
    "model_features = df.columns.drop('Output')\n",
    "model_target = 'Output'\n",
    "numerical_features_all = df[model_features].select_dtypes(include=np.number).columns\n",
    "catagorical_features_all = df[model_features].select_dtypes(include='object').columns"
   ]
  },
  {
   "cell_type": "markdown",
   "metadata": {},
   "source": [
    "Create two processing pipelines for numerical and categorical features. Combine the two pipelines with `ColumnTransformer` "
   ]
  },
  {
   "cell_type": "code",
   "execution_count": 3,
   "metadata": {},
   "outputs": [],
   "source": [
    "numerical_processor = Pipeline([\n",
    "    ('num_imputer', SimpleImputer(strategy='mean')),\n",
    "    ('num_scaler', MinMaxScaler())\n",
    "])\n",
    "\n",
    "categorical_processor = Pipeline([\n",
    "    ('cat_imputer', SimpleImputer(strategy='constant', fill_value='missing')),\n",
    "    ('cat_encoder', OneHotEncoder(handle_unknown='ignore')) \n",
    "])\n",
    "\n",
    "data_preprocessor = ColumnTransformer([\n",
    "    ('numerical_pre', numerical_processor, numerical_features_all),\n",
    "    ('categorical_pre', categorical_processor, catagorical_features_all)\n",
    "]) "
   ]
  },
  {
   "cell_type": "code",
   "execution_count": 4,
   "metadata": {},
   "outputs": [],
   "source": [
    "# Final pipeline with a decision tree estimator\n",
    "pipeline = Pipeline([\n",
    "    ('data_preprocessing', data_preprocessor),\n",
    "    ('dt', DecisionTreeClassifier(random_state=42))\n",
    "])\n",
    "\n",
    "# Visualize the pipeline\n",
    "from sklearn import set_config\n",
    "set_config(display='diagram')"
   ]
  },
  {
   "cell_type": "code",
   "execution_count": 5,
   "metadata": {},
   "outputs": [
    {
     "data": {
      "text/html": [
       "<style>#sk-f4922862-b6c3-46a1-80d1-476332317c3f {color: black;background-color: white;}#sk-f4922862-b6c3-46a1-80d1-476332317c3f pre{padding: 0;}#sk-f4922862-b6c3-46a1-80d1-476332317c3f div.sk-toggleable {background-color: white;}#sk-f4922862-b6c3-46a1-80d1-476332317c3f label.sk-toggleable__label {cursor: pointer;display: block;width: 100%;margin-bottom: 0;padding: 0.2em 0.3em;box-sizing: border-box;text-align: center;}#sk-f4922862-b6c3-46a1-80d1-476332317c3f div.sk-toggleable__content {max-height: 0;max-width: 0;overflow: hidden;text-align: left;background-color: #f0f8ff;}#sk-f4922862-b6c3-46a1-80d1-476332317c3f div.sk-toggleable__content pre {margin: 0.2em;color: black;border-radius: 0.25em;background-color: #f0f8ff;}#sk-f4922862-b6c3-46a1-80d1-476332317c3f input.sk-toggleable__control:checked~div.sk-toggleable__content {max-height: 200px;max-width: 100%;overflow: auto;}#sk-f4922862-b6c3-46a1-80d1-476332317c3f div.sk-estimator input.sk-toggleable__control:checked~label.sk-toggleable__label {background-color: #d4ebff;}#sk-f4922862-b6c3-46a1-80d1-476332317c3f div.sk-label input.sk-toggleable__control:checked~label.sk-toggleable__label {background-color: #d4ebff;}#sk-f4922862-b6c3-46a1-80d1-476332317c3f input.sk-hidden--visually {border: 0;clip: rect(1px 1px 1px 1px);clip: rect(1px, 1px, 1px, 1px);height: 1px;margin: -1px;overflow: hidden;padding: 0;position: absolute;width: 1px;}#sk-f4922862-b6c3-46a1-80d1-476332317c3f div.sk-estimator {font-family: monospace;background-color: #f0f8ff;margin: 0.25em 0.25em;border: 1px dotted black;border-radius: 0.25em;box-sizing: border-box;}#sk-f4922862-b6c3-46a1-80d1-476332317c3f div.sk-estimator:hover {background-color: #d4ebff;}#sk-f4922862-b6c3-46a1-80d1-476332317c3f div.sk-parallel-item::after {content: \"\";width: 100%;border-bottom: 1px solid gray;flex-grow: 1;}#sk-f4922862-b6c3-46a1-80d1-476332317c3f div.sk-label:hover label.sk-toggleable__label {background-color: #d4ebff;}#sk-f4922862-b6c3-46a1-80d1-476332317c3f div.sk-serial::before {content: \"\";position: absolute;border-left: 1px solid gray;box-sizing: border-box;top: 2em;bottom: 0;left: 50%;}#sk-f4922862-b6c3-46a1-80d1-476332317c3f div.sk-serial {display: flex;flex-direction: column;align-items: center;background-color: white;}#sk-f4922862-b6c3-46a1-80d1-476332317c3f div.sk-item {z-index: 1;}#sk-f4922862-b6c3-46a1-80d1-476332317c3f div.sk-parallel {display: flex;align-items: stretch;justify-content: center;background-color: white;}#sk-f4922862-b6c3-46a1-80d1-476332317c3f div.sk-parallel-item {display: flex;flex-direction: column;position: relative;background-color: white;}#sk-f4922862-b6c3-46a1-80d1-476332317c3f div.sk-parallel-item:first-child::after {align-self: flex-end;width: 50%;}#sk-f4922862-b6c3-46a1-80d1-476332317c3f div.sk-parallel-item:last-child::after {align-self: flex-start;width: 50%;}#sk-f4922862-b6c3-46a1-80d1-476332317c3f div.sk-parallel-item:only-child::after {width: 0;}#sk-f4922862-b6c3-46a1-80d1-476332317c3f div.sk-dashed-wrapped {border: 1px dashed gray;margin: 0.2em;box-sizing: border-box;padding-bottom: 0.1em;background-color: white;position: relative;}#sk-f4922862-b6c3-46a1-80d1-476332317c3f div.sk-label label {font-family: monospace;font-weight: bold;background-color: white;display: inline-block;line-height: 1.2em;}#sk-f4922862-b6c3-46a1-80d1-476332317c3f div.sk-label-container {position: relative;z-index: 2;text-align: center;}#sk-f4922862-b6c3-46a1-80d1-476332317c3f div.sk-container {display: inline-block;position: relative;}</style><div id=\"sk-f4922862-b6c3-46a1-80d1-476332317c3f\" class\"sk-top-container\"><div class=\"sk-container\"><div class=\"sk-item sk-dashed-wrapped\"><div class=\"sk-label-container\"><div class=\"sk-label sk-toggleable\"><input class=\"sk-toggleable__control sk-hidden--visually\" id=\"03d73305-0c18-430c-87a8-5d68168b9fae\" type=\"checkbox\" ><label class=\"sk-toggleable__label\" for=\"03d73305-0c18-430c-87a8-5d68168b9fae\">Pipeline</label><div class=\"sk-toggleable__content\"><pre>Pipeline(steps=[('data_preprocessing',\n",
       "                 ColumnTransformer(transformers=[('numerical_pre',\n",
       "                                                  Pipeline(steps=[('num_imputer',\n",
       "                                                                   SimpleImputer()),\n",
       "                                                                  ('num_scaler',\n",
       "                                                                   MinMaxScaler())]),\n",
       "                                                  Index(['Unnamed: 0', 'Age', 'Family size', 'latitude', 'longitude'], dtype='object')),\n",
       "                                                 ('categorical_pre',\n",
       "                                                  Pipeline(steps=[('cat_imputer',\n",
       "                                                                   SimpleImputer(fill_value='missing',\n",
       "                                                                                 strategy='constant')),\n",
       "                                                                  ('cat_encoder',\n",
       "                                                                   OneHotEncoder(handle_unknown='ignore'))]),\n",
       "                                                  Index(['Gender', 'Marital Status', 'Occupation', 'Monthly Income',\n",
       "       'Educational Qualifications', 'Residence in busy location',\n",
       "       'Google Maps Accuracy', 'Good Road Condition',\n",
       "       'Delivery person ability'],\n",
       "      dtype='object'))])),\n",
       "                ('dt', DecisionTreeClassifier(random_state=42))])</pre></div></div></div><div class=\"sk-serial\"><div class=\"sk-item sk-dashed-wrapped\"><div class=\"sk-label-container\"><div class=\"sk-label sk-toggleable\"><input class=\"sk-toggleable__control sk-hidden--visually\" id=\"e97c0033-4239-4f21-a4a9-8a48780a1e43\" type=\"checkbox\" ><label class=\"sk-toggleable__label\" for=\"e97c0033-4239-4f21-a4a9-8a48780a1e43\">data_preprocessing: ColumnTransformer</label><div class=\"sk-toggleable__content\"><pre>ColumnTransformer(transformers=[('numerical_pre',\n",
       "                                 Pipeline(steps=[('num_imputer',\n",
       "                                                  SimpleImputer()),\n",
       "                                                 ('num_scaler',\n",
       "                                                  MinMaxScaler())]),\n",
       "                                 Index(['Unnamed: 0', 'Age', 'Family size', 'latitude', 'longitude'], dtype='object')),\n",
       "                                ('categorical_pre',\n",
       "                                 Pipeline(steps=[('cat_imputer',\n",
       "                                                  SimpleImputer(fill_value='missing',\n",
       "                                                                strategy='constant')),\n",
       "                                                 ('cat_encoder',\n",
       "                                                  OneHotEncoder(handle_unknown='ignore'))]),\n",
       "                                 Index(['Gender', 'Marital Status', 'Occupation', 'Monthly Income',\n",
       "       'Educational Qualifications', 'Residence in busy location',\n",
       "       'Google Maps Accuracy', 'Good Road Condition',\n",
       "       'Delivery person ability'],\n",
       "      dtype='object'))])</pre></div></div></div><div class=\"sk-parallel\"><div class=\"sk-parallel-item\"><div class=\"sk-item\"><div class=\"sk-label-container\"><div class=\"sk-label sk-toggleable\"><input class=\"sk-toggleable__control sk-hidden--visually\" id=\"8930da10-163f-4a13-a373-ef8dcd841f20\" type=\"checkbox\" ><label class=\"sk-toggleable__label\" for=\"8930da10-163f-4a13-a373-ef8dcd841f20\">numerical_pre</label><div class=\"sk-toggleable__content\"><pre>Index(['Unnamed: 0', 'Age', 'Family size', 'latitude', 'longitude'], dtype='object')</pre></div></div></div><div class=\"sk-serial\"><div class=\"sk-item\"><div class=\"sk-serial\"><div class=\"sk-item\"><div class=\"sk-estimator sk-toggleable\"><input class=\"sk-toggleable__control sk-hidden--visually\" id=\"1180487b-bd15-40f3-87b7-ad60c96f75e8\" type=\"checkbox\" ><label class=\"sk-toggleable__label\" for=\"1180487b-bd15-40f3-87b7-ad60c96f75e8\">SimpleImputer</label><div class=\"sk-toggleable__content\"><pre>SimpleImputer()</pre></div></div></div><div class=\"sk-item\"><div class=\"sk-estimator sk-toggleable\"><input class=\"sk-toggleable__control sk-hidden--visually\" id=\"d72a9578-9370-4230-acb2-01604c72769b\" type=\"checkbox\" ><label class=\"sk-toggleable__label\" for=\"d72a9578-9370-4230-acb2-01604c72769b\">MinMaxScaler</label><div class=\"sk-toggleable__content\"><pre>MinMaxScaler()</pre></div></div></div></div></div></div></div></div><div class=\"sk-parallel-item\"><div class=\"sk-item\"><div class=\"sk-label-container\"><div class=\"sk-label sk-toggleable\"><input class=\"sk-toggleable__control sk-hidden--visually\" id=\"2c3b3d68-6caa-4fb1-bdc2-e600baa99220\" type=\"checkbox\" ><label class=\"sk-toggleable__label\" for=\"2c3b3d68-6caa-4fb1-bdc2-e600baa99220\">categorical_pre</label><div class=\"sk-toggleable__content\"><pre>Index(['Gender', 'Marital Status', 'Occupation', 'Monthly Income',\n",
       "       'Educational Qualifications', 'Residence in busy location',\n",
       "       'Google Maps Accuracy', 'Good Road Condition',\n",
       "       'Delivery person ability'],\n",
       "      dtype='object')</pre></div></div></div><div class=\"sk-serial\"><div class=\"sk-item\"><div class=\"sk-serial\"><div class=\"sk-item\"><div class=\"sk-estimator sk-toggleable\"><input class=\"sk-toggleable__control sk-hidden--visually\" id=\"e0e44d10-bcfe-4b51-8498-a3146d4dec49\" type=\"checkbox\" ><label class=\"sk-toggleable__label\" for=\"e0e44d10-bcfe-4b51-8498-a3146d4dec49\">SimpleImputer</label><div class=\"sk-toggleable__content\"><pre>SimpleImputer(fill_value='missing', strategy='constant')</pre></div></div></div><div class=\"sk-item\"><div class=\"sk-estimator sk-toggleable\"><input class=\"sk-toggleable__control sk-hidden--visually\" id=\"394900ef-f93e-4667-b3c6-39cb15d555e8\" type=\"checkbox\" ><label class=\"sk-toggleable__label\" for=\"394900ef-f93e-4667-b3c6-39cb15d555e8\">OneHotEncoder</label><div class=\"sk-toggleable__content\"><pre>OneHotEncoder(handle_unknown='ignore')</pre></div></div></div></div></div></div></div></div></div></div><div class=\"sk-item\"><div class=\"sk-estimator sk-toggleable\"><input class=\"sk-toggleable__control sk-hidden--visually\" id=\"41c5a19b-c3d8-4f06-83dc-5f8a939e0d15\" type=\"checkbox\" ><label class=\"sk-toggleable__label\" for=\"41c5a19b-c3d8-4f06-83dc-5f8a939e0d15\">DecisionTreeClassifier</label><div class=\"sk-toggleable__content\"><pre>DecisionTreeClassifier(random_state=42)</pre></div></div></div></div></div></div></div>"
      ],
      "text/plain": [
       "Pipeline(steps=[('data_preprocessing',\n",
       "                 ColumnTransformer(transformers=[('numerical_pre',\n",
       "                                                  Pipeline(steps=[('num_imputer',\n",
       "                                                                   SimpleImputer()),\n",
       "                                                                  ('num_scaler',\n",
       "                                                                   MinMaxScaler())]),\n",
       "                                                  Index(['Unnamed: 0', 'Age', 'Family size', 'latitude', 'longitude'], dtype='object')),\n",
       "                                                 ('categorical_pre',\n",
       "                                                  Pipeline(steps=[('cat_imputer',\n",
       "                                                                   SimpleImputer(fill_value='missing',\n",
       "                                                                                 strategy='constant')),\n",
       "                                                                  ('cat_encoder',\n",
       "                                                                   OneHotEncoder(handle_unknown='ignore'))]),\n",
       "                                                  Index(['Gender', 'Marital Status', 'Occupation', 'Monthly Income',\n",
       "       'Educational Qualifications', 'Residence in busy location',\n",
       "       'Google Maps Accuracy', 'Good Road Condition',\n",
       "       'Delivery person ability'],\n",
       "      dtype='object'))])),\n",
       "                ('dt', DecisionTreeClassifier(random_state=42))])"
      ]
     },
     "execution_count": 5,
     "metadata": {},
     "output_type": "execute_result"
    }
   ],
   "source": [
    "train_data, test_data = train_test_split(df, test_size=0.3, shuffle=True, random_state=42)\n",
    "X_train = train_data[model_features]\n",
    "y_train = train_data[model_target]\n",
    "pipeline.fit(X_train, y_train)"
   ]
  },
  {
   "cell_type": "markdown",
   "metadata": {},
   "source": [
    "Get the hyperparameters for the fitted decision tree in the pipeline. "
   ]
  },
  {
   "cell_type": "code",
   "execution_count": 6,
   "metadata": {},
   "outputs": [
    {
     "data": {
      "text/plain": [
       "{'ccp_alpha': 0.0,\n",
       " 'class_weight': None,\n",
       " 'criterion': 'gini',\n",
       " 'max_depth': None,\n",
       " 'max_features': None,\n",
       " 'max_leaf_nodes': None,\n",
       " 'min_impurity_decrease': 0.0,\n",
       " 'min_impurity_split': None,\n",
       " 'min_samples_leaf': 1,\n",
       " 'min_samples_split': 2,\n",
       " 'min_weight_fraction_leaf': 0.0,\n",
       " 'random_state': 42,\n",
       " 'splitter': 'best'}"
      ]
     },
     "execution_count": 6,
     "metadata": {},
     "output_type": "execute_result"
    }
   ],
   "source": [
    "pipeline['dt'].get_params()"
   ]
  },
  {
   "cell_type": "markdown",
   "metadata": {},
   "source": [
    "Evaluate the model"
   ]
  },
  {
   "cell_type": "code",
   "execution_count": 7,
   "metadata": {},
   "outputs": [
    {
     "name": "stdout",
     "output_type": "stream",
     "text": [
      "[[11 11]\n",
      " [17 78]]\n",
      "              precision    recall  f1-score   support\n",
      "\n",
      "          No       0.39      0.50      0.44        22\n",
      "         Yes       0.88      0.82      0.85        95\n",
      "\n",
      "    accuracy                           0.76       117\n",
      "   macro avg       0.63      0.66      0.64       117\n",
      "weighted avg       0.79      0.76      0.77       117\n",
      "\n"
     ]
    }
   ],
   "source": [
    "X_test = test_data[model_features]\n",
    "y_test = test_data[model_target]\n",
    "test_predictions = pipeline.predict(X_test)\n",
    "\n",
    "print(confusion_matrix(y_test, test_predictions))\n",
    "print(classification_report(y_test, test_predictions))\n"
   ]
  },
  {
   "cell_type": "markdown",
   "metadata": {},
   "source": [
    "Use `GridSearchCV` to optimize the hyperparameter in the decision tree model: `max_depth` and `min_samples_leaf`"
   ]
  },
  {
   "cell_type": "code",
   "execution_count": 8,
   "metadata": {},
   "outputs": [
    {
     "name": "stdout",
     "output_type": "stream",
     "text": [
      "Fitting 5 folds for each of 9 candidates, totalling 45 fits\n"
     ]
    },
    {
     "data": {
      "text/html": [
       "<style>#sk-bf0e3dea-d5e3-4722-9f20-009d5969bd22 {color: black;background-color: white;}#sk-bf0e3dea-d5e3-4722-9f20-009d5969bd22 pre{padding: 0;}#sk-bf0e3dea-d5e3-4722-9f20-009d5969bd22 div.sk-toggleable {background-color: white;}#sk-bf0e3dea-d5e3-4722-9f20-009d5969bd22 label.sk-toggleable__label {cursor: pointer;display: block;width: 100%;margin-bottom: 0;padding: 0.2em 0.3em;box-sizing: border-box;text-align: center;}#sk-bf0e3dea-d5e3-4722-9f20-009d5969bd22 div.sk-toggleable__content {max-height: 0;max-width: 0;overflow: hidden;text-align: left;background-color: #f0f8ff;}#sk-bf0e3dea-d5e3-4722-9f20-009d5969bd22 div.sk-toggleable__content pre {margin: 0.2em;color: black;border-radius: 0.25em;background-color: #f0f8ff;}#sk-bf0e3dea-d5e3-4722-9f20-009d5969bd22 input.sk-toggleable__control:checked~div.sk-toggleable__content {max-height: 200px;max-width: 100%;overflow: auto;}#sk-bf0e3dea-d5e3-4722-9f20-009d5969bd22 div.sk-estimator input.sk-toggleable__control:checked~label.sk-toggleable__label {background-color: #d4ebff;}#sk-bf0e3dea-d5e3-4722-9f20-009d5969bd22 div.sk-label input.sk-toggleable__control:checked~label.sk-toggleable__label {background-color: #d4ebff;}#sk-bf0e3dea-d5e3-4722-9f20-009d5969bd22 input.sk-hidden--visually {border: 0;clip: rect(1px 1px 1px 1px);clip: rect(1px, 1px, 1px, 1px);height: 1px;margin: -1px;overflow: hidden;padding: 0;position: absolute;width: 1px;}#sk-bf0e3dea-d5e3-4722-9f20-009d5969bd22 div.sk-estimator {font-family: monospace;background-color: #f0f8ff;margin: 0.25em 0.25em;border: 1px dotted black;border-radius: 0.25em;box-sizing: border-box;}#sk-bf0e3dea-d5e3-4722-9f20-009d5969bd22 div.sk-estimator:hover {background-color: #d4ebff;}#sk-bf0e3dea-d5e3-4722-9f20-009d5969bd22 div.sk-parallel-item::after {content: \"\";width: 100%;border-bottom: 1px solid gray;flex-grow: 1;}#sk-bf0e3dea-d5e3-4722-9f20-009d5969bd22 div.sk-label:hover label.sk-toggleable__label {background-color: #d4ebff;}#sk-bf0e3dea-d5e3-4722-9f20-009d5969bd22 div.sk-serial::before {content: \"\";position: absolute;border-left: 1px solid gray;box-sizing: border-box;top: 2em;bottom: 0;left: 50%;}#sk-bf0e3dea-d5e3-4722-9f20-009d5969bd22 div.sk-serial {display: flex;flex-direction: column;align-items: center;background-color: white;}#sk-bf0e3dea-d5e3-4722-9f20-009d5969bd22 div.sk-item {z-index: 1;}#sk-bf0e3dea-d5e3-4722-9f20-009d5969bd22 div.sk-parallel {display: flex;align-items: stretch;justify-content: center;background-color: white;}#sk-bf0e3dea-d5e3-4722-9f20-009d5969bd22 div.sk-parallel-item {display: flex;flex-direction: column;position: relative;background-color: white;}#sk-bf0e3dea-d5e3-4722-9f20-009d5969bd22 div.sk-parallel-item:first-child::after {align-self: flex-end;width: 50%;}#sk-bf0e3dea-d5e3-4722-9f20-009d5969bd22 div.sk-parallel-item:last-child::after {align-self: flex-start;width: 50%;}#sk-bf0e3dea-d5e3-4722-9f20-009d5969bd22 div.sk-parallel-item:only-child::after {width: 0;}#sk-bf0e3dea-d5e3-4722-9f20-009d5969bd22 div.sk-dashed-wrapped {border: 1px dashed gray;margin: 0.2em;box-sizing: border-box;padding-bottom: 0.1em;background-color: white;position: relative;}#sk-bf0e3dea-d5e3-4722-9f20-009d5969bd22 div.sk-label label {font-family: monospace;font-weight: bold;background-color: white;display: inline-block;line-height: 1.2em;}#sk-bf0e3dea-d5e3-4722-9f20-009d5969bd22 div.sk-label-container {position: relative;z-index: 2;text-align: center;}#sk-bf0e3dea-d5e3-4722-9f20-009d5969bd22 div.sk-container {display: inline-block;position: relative;}</style><div id=\"sk-bf0e3dea-d5e3-4722-9f20-009d5969bd22\" class\"sk-top-container\"><div class=\"sk-container\"><div class=\"sk-item sk-dashed-wrapped\"><div class=\"sk-label-container\"><div class=\"sk-label sk-toggleable\"><input class=\"sk-toggleable__control sk-hidden--visually\" id=\"592fce8b-ea80-43d2-8743-e897d6382df1\" type=\"checkbox\" ><label class=\"sk-toggleable__label\" for=\"592fce8b-ea80-43d2-8743-e897d6382df1\">GridSearchCV</label><div class=\"sk-toggleable__content\"><pre>GridSearchCV(cv=5,\n",
       "             estimator=Pipeline(steps=[('data_preprocessing',\n",
       "                                        ColumnTransformer(transformers=[('numerical_pre',\n",
       "                                                                         Pipeline(steps=[('num_imputer',\n",
       "                                                                                          SimpleImputer()),\n",
       "                                                                                         ('num_scaler',\n",
       "                                                                                          MinMaxScaler())]),\n",
       "                                                                         Index(['Unnamed: 0', 'Age', 'Family size', 'latitude', 'longitude'], dtype='object')),\n",
       "                                                                        ('categorical_pre',\n",
       "                                                                         Pipeline(steps=[('cat_imputer',\n",
       "                                                                                          SimpleImputer(fill_value='...\n",
       "                                                                                          OneHotEncoder(handle_unknown='ignore'))]),\n",
       "                                                                         Index(['Gender', 'Marital Status', 'Occupation', 'Monthly Income',\n",
       "       'Educational Qualifications', 'Residence in busy location',\n",
       "       'Google Maps Accuracy', 'Good Road Condition',\n",
       "       'Delivery person ability'],\n",
       "      dtype='object'))])),\n",
       "                                       ('dt',\n",
       "                                        DecisionTreeClassifier(random_state=42))]),\n",
       "             n_jobs=-1,\n",
       "             param_grid={'dt__max_depth': [20, 50, 100],\n",
       "                         'dt__min_samples_leaf': [1, 5, 10]},\n",
       "             verbose=1)</pre></div></div></div><div class=\"sk-parallel\"><div class=\"sk-parallel-item\"><div class=\"sk-item\"><div class=\"sk-serial\"><div class=\"sk-item\"><div class=\"sk-serial\"><div class=\"sk-item sk-dashed-wrapped\"><div class=\"sk-label-container\"><div class=\"sk-label sk-toggleable\"><input class=\"sk-toggleable__control sk-hidden--visually\" id=\"13d1a7de-7d36-4e56-b5cf-0c944b0e2d09\" type=\"checkbox\" ><label class=\"sk-toggleable__label\" for=\"13d1a7de-7d36-4e56-b5cf-0c944b0e2d09\">data_preprocessing: ColumnTransformer</label><div class=\"sk-toggleable__content\"><pre>ColumnTransformer(transformers=[('numerical_pre',\n",
       "                                 Pipeline(steps=[('num_imputer',\n",
       "                                                  SimpleImputer()),\n",
       "                                                 ('num_scaler',\n",
       "                                                  MinMaxScaler())]),\n",
       "                                 Index(['Unnamed: 0', 'Age', 'Family size', 'latitude', 'longitude'], dtype='object')),\n",
       "                                ('categorical_pre',\n",
       "                                 Pipeline(steps=[('cat_imputer',\n",
       "                                                  SimpleImputer(fill_value='missing',\n",
       "                                                                strategy='constant')),\n",
       "                                                 ('cat_encoder',\n",
       "                                                  OneHotEncoder(handle_unknown='ignore'))]),\n",
       "                                 Index(['Gender', 'Marital Status', 'Occupation', 'Monthly Income',\n",
       "       'Educational Qualifications', 'Residence in busy location',\n",
       "       'Google Maps Accuracy', 'Good Road Condition',\n",
       "       'Delivery person ability'],\n",
       "      dtype='object'))])</pre></div></div></div><div class=\"sk-parallel\"><div class=\"sk-parallel-item\"><div class=\"sk-item\"><div class=\"sk-label-container\"><div class=\"sk-label sk-toggleable\"><input class=\"sk-toggleable__control sk-hidden--visually\" id=\"731db59d-ea0a-408e-90ef-5e0127334704\" type=\"checkbox\" ><label class=\"sk-toggleable__label\" for=\"731db59d-ea0a-408e-90ef-5e0127334704\">numerical_pre</label><div class=\"sk-toggleable__content\"><pre>Index(['Unnamed: 0', 'Age', 'Family size', 'latitude', 'longitude'], dtype='object')</pre></div></div></div><div class=\"sk-serial\"><div class=\"sk-item\"><div class=\"sk-serial\"><div class=\"sk-item\"><div class=\"sk-estimator sk-toggleable\"><input class=\"sk-toggleable__control sk-hidden--visually\" id=\"cf6c42ae-5251-43c3-b9cb-fee10c83bb21\" type=\"checkbox\" ><label class=\"sk-toggleable__label\" for=\"cf6c42ae-5251-43c3-b9cb-fee10c83bb21\">SimpleImputer</label><div class=\"sk-toggleable__content\"><pre>SimpleImputer()</pre></div></div></div><div class=\"sk-item\"><div class=\"sk-estimator sk-toggleable\"><input class=\"sk-toggleable__control sk-hidden--visually\" id=\"8ac7d12c-033c-42c2-adf8-4c28142f48ee\" type=\"checkbox\" ><label class=\"sk-toggleable__label\" for=\"8ac7d12c-033c-42c2-adf8-4c28142f48ee\">MinMaxScaler</label><div class=\"sk-toggleable__content\"><pre>MinMaxScaler()</pre></div></div></div></div></div></div></div></div><div class=\"sk-parallel-item\"><div class=\"sk-item\"><div class=\"sk-label-container\"><div class=\"sk-label sk-toggleable\"><input class=\"sk-toggleable__control sk-hidden--visually\" id=\"5ce226a1-8ced-4a80-bbf8-141da9c3ea92\" type=\"checkbox\" ><label class=\"sk-toggleable__label\" for=\"5ce226a1-8ced-4a80-bbf8-141da9c3ea92\">categorical_pre</label><div class=\"sk-toggleable__content\"><pre>Index(['Gender', 'Marital Status', 'Occupation', 'Monthly Income',\n",
       "       'Educational Qualifications', 'Residence in busy location',\n",
       "       'Google Maps Accuracy', 'Good Road Condition',\n",
       "       'Delivery person ability'],\n",
       "      dtype='object')</pre></div></div></div><div class=\"sk-serial\"><div class=\"sk-item\"><div class=\"sk-serial\"><div class=\"sk-item\"><div class=\"sk-estimator sk-toggleable\"><input class=\"sk-toggleable__control sk-hidden--visually\" id=\"d264582b-26e4-4365-b3f0-cf94b8ece8b5\" type=\"checkbox\" ><label class=\"sk-toggleable__label\" for=\"d264582b-26e4-4365-b3f0-cf94b8ece8b5\">SimpleImputer</label><div class=\"sk-toggleable__content\"><pre>SimpleImputer(fill_value='missing', strategy='constant')</pre></div></div></div><div class=\"sk-item\"><div class=\"sk-estimator sk-toggleable\"><input class=\"sk-toggleable__control sk-hidden--visually\" id=\"7d96e042-078e-4f5b-9815-d2e768051db4\" type=\"checkbox\" ><label class=\"sk-toggleable__label\" for=\"7d96e042-078e-4f5b-9815-d2e768051db4\">OneHotEncoder</label><div class=\"sk-toggleable__content\"><pre>OneHotEncoder(handle_unknown='ignore')</pre></div></div></div></div></div></div></div></div></div></div><div class=\"sk-item\"><div class=\"sk-estimator sk-toggleable\"><input class=\"sk-toggleable__control sk-hidden--visually\" id=\"e72e5a76-7a49-4459-9fd1-f373aefb5162\" type=\"checkbox\" ><label class=\"sk-toggleable__label\" for=\"e72e5a76-7a49-4459-9fd1-f373aefb5162\">DecisionTreeClassifier</label><div class=\"sk-toggleable__content\"><pre>DecisionTreeClassifier(random_state=42)</pre></div></div></div></div></div></div></div></div></div></div></div></div>"
      ],
      "text/plain": [
       "GridSearchCV(cv=5,\n",
       "             estimator=Pipeline(steps=[('data_preprocessing',\n",
       "                                        ColumnTransformer(transformers=[('numerical_pre',\n",
       "                                                                         Pipeline(steps=[('num_imputer',\n",
       "                                                                                          SimpleImputer()),\n",
       "                                                                                         ('num_scaler',\n",
       "                                                                                          MinMaxScaler())]),\n",
       "                                                                         Index(['Unnamed: 0', 'Age', 'Family size', 'latitude', 'longitude'], dtype='object')),\n",
       "                                                                        ('categorical_pre',\n",
       "                                                                         Pipeline(steps=[('cat_imputer',\n",
       "                                                                                          SimpleImputer(fill_value='...\n",
       "                                                                                          OneHotEncoder(handle_unknown='ignore'))]),\n",
       "                                                                         Index(['Gender', 'Marital Status', 'Occupation', 'Monthly Income',\n",
       "       'Educational Qualifications', 'Residence in busy location',\n",
       "       'Google Maps Accuracy', 'Good Road Condition',\n",
       "       'Delivery person ability'],\n",
       "      dtype='object'))])),\n",
       "                                       ('dt',\n",
       "                                        DecisionTreeClassifier(random_state=42))]),\n",
       "             n_jobs=-1,\n",
       "             param_grid={'dt__max_depth': [20, 50, 100],\n",
       "                         'dt__min_samples_leaf': [1, 5, 10]},\n",
       "             verbose=1)"
      ]
     },
     "execution_count": 8,
     "metadata": {},
     "output_type": "execute_result"
    }
   ],
   "source": [
    "# Parameter grid for GridSearch\n",
    "param_grid={'dt__max_depth': [20, 50, 100],\n",
    "            'dt__min_samples_leaf': [1, 5, 10],\n",
    "        }\n",
    "\n",
    "grid_search = GridSearchCV(pipeline, # Base model\n",
    "                           param_grid, # Parameters to try\n",
    "                           cv = 5, # Apply 5-fold cross validation\n",
    "                           verbose = 1, # Print summary\n",
    "                           n_jobs = -1 # Use all available processors\n",
    "                          )\n",
    "\n",
    "# Fit the GridSearch to our training data\n",
    "grid_search.fit(X_train, y_train)"
   ]
  },
  {
   "cell_type": "markdown",
   "metadata": {},
   "source": [
    "Evaluate the tuned model on test data"
   ]
  },
  {
   "cell_type": "code",
   "execution_count": 9,
   "metadata": {},
   "outputs": [
    {
     "name": "stdout",
     "output_type": "stream",
     "text": [
      "Model evaluation on the test data: \n",
      "\n",
      "[[11 11]\n",
      " [17 78]]\n",
      "              precision    recall  f1-score   support\n",
      "\n",
      "          No       0.39      0.50      0.44        22\n",
      "         Yes       0.88      0.82      0.85        95\n",
      "\n",
      "    accuracy                           0.76       117\n",
      "   macro avg       0.63      0.66      0.64       117\n",
      "weighted avg       0.79      0.76      0.77       117\n",
      "\n"
     ]
    }
   ],
   "source": [
    "final_model = grid_search.best_estimator_\n",
    "test_predictions = final_model.predict(X_test)\n",
    "\n",
    "print('Model evaluation on the test data: \\n')\n",
    "print(confusion_matrix(y_test, test_predictions))\n",
    "print(classification_report(y_test, test_predictions))"
   ]
  },
  {
   "cell_type": "code",
   "execution_count": 10,
   "metadata": {},
   "outputs": [
    {
     "data": {
      "text/plain": [
       "12"
      ]
     },
     "execution_count": 10,
     "metadata": {},
     "output_type": "execute_result"
    }
   ],
   "source": [
    "final_model['dt'].get_depth()"
   ]
  },
  {
   "cell_type": "markdown",
   "metadata": {},
   "source": [
    "Since our grid search above didn't actually produce better results, let's try to tune the model further. As shown in the code above, the current model has a tree depth of 12, which is much smaller than the candidate values for the `max_depth` hyperparameter. So, let's try some new values. \n",
    "\n",
    "You are asked to add the code to tune the `max_depth` hyperparameter using grid search and determine \n",
    "\n",
    "1. Which value, among three candidates [8, 10, 12] for `max_depth` hyperparameter will improve the model performance? (you may keep the candidate for `min_samples_leaf` unchanged.)\n",
    "\n",
    "2. What is the tree depth of the decision tree in the new best model after tuning?  \n",
    "\n",
    "__Bonus:__ In the [sklearn decision tree](https://scikit-learn.org/stable/modules/generated/sklearn.tree.DecisionTreeClassifier.html) models, the uncertainty can also be represented by entropy during the tree construction. Use `GridSearchCV` (and not plugging this option directly to the model object) to determine if using the entropy criteria may improve the performance of our model given the same train/test split and other parameter settings. \n",
    "\n",
    "__-------------------Important: Add your code below this block; Answers inserted above will not be graded --------------__"
   ]
  }
 ],
 "metadata": {
  "interpreter": {
   "hash": "eba38789ab565d76f074e8fa97ecc7da63eb4a5e1ba28cc348f16f5285783ca7"
  },
  "kernelspec": {
   "display_name": "test_env:Python",
   "language": "python",
   "name": "python3"
  },
  "language_info": {
   "codemirror_mode": {
    "name": "ipython",
    "version": 3
   },
   "file_extension": ".py",
   "mimetype": "text/x-python",
   "name": "python",
   "nbconvert_exporter": "python",
   "pygments_lexer": "ipython3",
   "version": "3.8.5"
  }
 },
 "nbformat": 4,
 "nbformat_minor": 4
}
