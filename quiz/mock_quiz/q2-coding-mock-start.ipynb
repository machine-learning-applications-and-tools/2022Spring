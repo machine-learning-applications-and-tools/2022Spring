{
 "cells": [
  {
   "cell_type": "markdown",
   "metadata": {},
   "source": [
    "The dataset below shows records of online order delivery extracted from the original dataset [here](https://www.kaggle.com/benroshan/online-food-delivery-preferencesbangalore-region). \n",
    "\n",
    "You are asked to \n",
    "\n",
    "- Create a pipeline that includes 1) data processors for both numerical and categorical columns. The numerical data needs to be imputed and scaled and the catagorical data needs to be imputed and one-hot encoded. 2) A ColumnTransformer that combines the data processors and 3) A final pipeline that includes a decision tree estimator. \n",
    "\n",
    "- Train the pipeline and evaluate its performance based on the given train/test split code. \n",
    "- Using GridSearchCV to fine tune the hyperparameters. "
   ]
  },
  {
   "cell_type": "code",
   "execution_count": null,
   "metadata": {},
   "outputs": [],
   "source": [
    "import pandas as pd\n",
    "\n",
    "df = pd.read_csv(\"./onlinedelivery-short.csv\")\n",
    "df.info()"
   ]
  },
  {
   "cell_type": "code",
   "execution_count": null,
   "metadata": {},
   "outputs": [],
   "source": [
    "# Visualize the pipeline\n",
    "from sklearn import set_config\n",
    "set_config(display='diagram')\n",
    "pipeline"
   ]
  },
  {
   "cell_type": "code",
   "execution_count": null,
   "metadata": {},
   "outputs": [],
   "source": [
    "from sklearn.model_selection import train_test_split\n",
    "\n",
    "train_data, test_data = train_test_split(df, test_size=0.3, shuffle=True, random_state=42)"
   ]
  }
 ],
 "metadata": {
  "interpreter": {
   "hash": "eba38789ab565d76f074e8fa97ecc7da63eb4a5e1ba28cc348f16f5285783ca7"
  },
  "kernelspec": {
   "display_name": "test_env:Python",
   "language": "python",
   "name": "python3"
  },
  "language_info": {
   "codemirror_mode": {
    "name": "ipython",
    "version": 3
   },
   "file_extension": ".py",
   "mimetype": "text/x-python",
   "name": "python",
   "nbconvert_exporter": "python",
   "pygments_lexer": "ipython3",
   "version": "3.8.5"
  }
 },
 "nbformat": 4,
 "nbformat_minor": 4
}
