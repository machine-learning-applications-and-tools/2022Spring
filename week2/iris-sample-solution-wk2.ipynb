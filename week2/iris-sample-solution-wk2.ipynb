{
 "cells": [
  {
   "cell_type": "code",
   "execution_count": null,
   "metadata": {},
   "outputs": [],
   "source": [
    "import pandas as pd\n",
    "import numpy as np"
   ]
  },
  {
   "cell_type": "code",
   "execution_count": null,
   "metadata": {},
   "outputs": [],
   "source": [
    "iris_data = pd.read_csv('iris.csv', names=[\"sepal-length\", \"sepal-width\", \"petal-length\", \"petal-width\", \"class\"])"
   ]
  },
  {
   "cell_type": "markdown",
   "metadata": {},
   "source": [
    "#### Task 1 \n",
    "Build a KNN (K=1) model using the whole data set as the training set. Predict what type of iris is the one with measurement as [5.1, 2.8, 3.1, 2.9], which is sepal-length = 5.1, sepal-width = 2.8, petal-length = 3.1, petal-width = 2.9?"
   ]
  },
  {
   "cell_type": "code",
   "execution_count": null,
   "metadata": {},
   "outputs": [],
   "source": [
    "# First, we will create the input (features for training) and the target (output column)\n",
    "input_data = iris_data[[\"sepal-length\", \"sepal-width\", \"petal-length\", \"petal-width\"]]\n",
    "target = iris_data[\"class\"]"
   ]
  },
  {
   "cell_type": "code",
   "execution_count": null,
   "metadata": {},
   "outputs": [],
   "source": [
    "from sklearn.neighbors import KNeighborsClassifier\n",
    "\n",
    "# Create a KNN model object (not trained yet)\n",
    "classifier = KNeighborsClassifier(n_neighbors = 1)\n",
    "\n",
    "# Fit the model to our data\n",
    "classifier.fit(input_data, target)  # classifer object is now trained after calling fit()"
   ]
  },
  {
   "cell_type": "code",
   "execution_count": null,
   "metadata": {},
   "outputs": [],
   "source": [
    "# Use the fitted model to make predictions on new data\n",
    "\n",
    "some_data = np.array([[5.1, 2.8, 3.1, 2.9]]) \n",
    "print(classifier.predict(some_data))"
   ]
  },
  {
   "cell_type": "markdown",
   "metadata": {},
   "source": [
    "#### Task 2\n",
    "Evaluate the model from Task 1 using the same training data set. Print out the confusion matrix, and precision, recall, f1-score scores. "
   ]
  },
  {
   "cell_type": "code",
   "execution_count": null,
   "metadata": {},
   "outputs": [],
   "source": [
    "#first, have the model create prediction based on the input data\n",
    "predictions = classifier.predict(input_data)"
   ]
  },
  {
   "cell_type": "code",
   "execution_count": null,
   "metadata": {},
   "outputs": [],
   "source": [
    "from sklearn.metrics import confusion_matrix\n",
    "# print out the confusion matrix\n",
    "print(confusion_matrix(target, predictions))\n",
    "\n",
    "# and the accuracy scores\n",
    "from sklearn.metrics import classification_report\n",
    "print(classification_report(target, predictions))"
   ]
  },
  {
   "cell_type": "markdown",
   "metadata": {},
   "source": [
    "#### Task 3\n",
    "Build a KNN (K=1) model using 100 samples as the training set, and 50 samples as the test set. Train the model on the training set and use the test set to evaluate the model. Print out the confusion matrix, and precision, recall, f1-score scores. "
   ]
  },
  {
   "cell_type": "code",
   "execution_count": null,
   "metadata": {},
   "outputs": [],
   "source": [
    "# slice the dataframe using iloc function to split the training set and test set. \n",
    "\n",
    "training_data = iris_data.iloc[:100, :] # First 100 rows, all columns\n",
    "test_data = iris_data.iloc[100:, :] # Remaining rows, all columns\n",
    "\n",
    "# Print the first 5 rows\n",
    "training_data.head()"
   ]
  },
  {
   "cell_type": "code",
   "execution_count": null,
   "metadata": {},
   "outputs": [],
   "source": [
    "test_data.head()"
   ]
  },
  {
   "cell_type": "code",
   "execution_count": null,
   "metadata": {},
   "outputs": [],
   "source": [
    "# X_train is the input for training, and y_train is the target for training. \n",
    "\n",
    "X_train = training_data [[\"sepal-length\", \"sepal-width\", \"petal-length\", \"petal-width\"]]\n",
    "y_train = training_data[\"class\"]"
   ]
  },
  {
   "cell_type": "code",
   "execution_count": null,
   "metadata": {},
   "outputs": [],
   "source": [
    "# Create a KNN model object\n",
    "classifier = KNeighborsClassifier(n_neighbors = 1)\n",
    "\n",
    "# Fit the model to the training set\n",
    "classifier.fit(X_train, y_train)"
   ]
  },
  {
   "cell_type": "code",
   "execution_count": null,
   "metadata": {},
   "outputs": [],
   "source": [
    "# Let's evaluate the model on the test set; first prepare the X and y for test set \n",
    "X_test = test_data[[\"sepal-length\", \"sepal-width\", \"petal-length\", \"petal-width\"]]\n",
    "y_test = test_data[\"class\"]\n",
    "\n",
    "# Let the model make predictions on the test data\n",
    "test_predictions = classifier.predict(X_test)\n",
    "\n",
    "print('Model evaluation on the test data: \\n')\n",
    "print(confusion_matrix(y_test, test_predictions))\n",
    "print(classification_report(y_test, test_predictions))\n",
    "\n",
    "# You will get zeros for precision and recall etc and additional error messages. The reason is that the training data set doesn't inlcude any class 'Iris-virginica', while the test data set contains only this class. This is an extreme example of underfitting. "
   ]
  },
  {
   "cell_type": "markdown",
   "metadata": {},
   "source": [
    "#### Task 4\n",
    "Learn to use the [train_test_split](https://scikit-learn.org/stable/modules/generated/sklearn.model_selection.train_test_split.html) function to prepare the training set and test set. "
   ]
  },
  {
   "cell_type": "markdown",
   "metadata": {},
   "source": [
    "#### Task 5\n",
    "\n",
    "Use the [cross-validation](https://scikit-learn.org/stable/modules/generated/sklearn.model_selection.cross_validate.html#sklearn.model_selection.cross_validate) function to evaluate training. "
   ]
  },
  {
   "cell_type": "markdown",
   "metadata": {},
   "source": [
    "#### Task 6\n",
    "\n",
    "Use cross-validation to determine which K (k=1, 3, 5, 7) give the best performance. "
   ]
  }
 ],
 "metadata": {
  "interpreter": {
   "hash": "eba38789ab565d76f074e8fa97ecc7da63eb4a5e1ba28cc348f16f5285783ca7"
  },
  "kernelspec": {
   "display_name": "Python 3.8.5 64-bit ('base': conda)",
   "language": "python",
   "name": "python3"
  },
  "language_info": {
   "codemirror_mode": {
    "name": "ipython",
    "version": 3
   },
   "file_extension": ".py",
   "mimetype": "text/x-python",
   "name": "python",
   "nbconvert_exporter": "python",
   "pygments_lexer": "ipython3",
   "version": "3.8.5"
  },
  "orig_nbformat": 4
 },
 "nbformat": 4,
 "nbformat_minor": 2
}
